{
 "cells": [
  {
   "cell_type": "code",
   "execution_count": 1,
   "id": "28a617b0",
   "metadata": {},
   "outputs": [
    {
     "name": "stderr",
     "output_type": "stream",
     "text": [
      "C:\\Users\\USER\\anaconda3\\lib\\site-packages\\numpy\\_distributor_init.py:30: UserWarning: loaded more than 1 DLL from .libs:\n",
      "C:\\Users\\USER\\anaconda3\\lib\\site-packages\\numpy\\.libs\\libopenblas.GK7GX5KEQ4F6UYO3P26ULGBQYHGQO7J4.gfortran-win_amd64.dll\n",
      "C:\\Users\\USER\\anaconda3\\lib\\site-packages\\numpy\\.libs\\libopenblas.WCDJNK7YVMPZQ2ME2ZZHJJRJ3JIKNDB7.gfortran-win_amd64.dll\n",
      "  warnings.warn(\"loaded more than 1 DLL from .libs:\"\n"
     ]
    }
   ],
   "source": [
    "import zeep\n",
    "import numpy as np\n",
    "import math\n",
    "import time\n",
    "import sys\n",
    "import shutil\n",
    "\n",
    "np.set_printoptions(threshold=sys.maxsize)"
   ]
  },
  {
   "cell_type": "code",
   "execution_count": 2,
   "id": "932beffd",
   "metadata": {},
   "outputs": [],
   "source": [
    "client = zeep.Client('http://turbulence.pha.jhu.edu/service/turbulence.asmx?WSDL')\n",
    "ArrayOfFloat = client.get_type('ns0:ArrayOfFloat')\n",
    "ArrayOfArrayOfFloat = client.get_type('ns0:ArrayOfArrayOfFloat')\n",
    "SpatialInterpolation = client.get_type('ns0:SpatialInterpolation')\n",
    "TemporalInterpolation = client.get_type('ns0:TemporalInterpolation')\n",
    "token = \"uk.ac.imperial.george.dixon-dray17-29581e35\""
   ]
  },
  {
   "cell_type": "code",
   "execution_count": 3,
   "id": "dbff1313",
   "metadata": {},
   "outputs": [],
   "source": [
    "def get_points_test(DNS_nx = 1024, new_domain_nx = 1020, filter_width_n = 5, crop = 4):\n",
    "    start_time = time.time()\n",
    "    dataset = \"isotropic1024coarse\"\n",
    "\n",
    "    # Database Domain Size\n",
    "    DNS_x_min = 0\n",
    "    DNS_x_max = 2*np.pi\n",
    "    DNS_spacing = DNS_x_max / DNS_nx\n",
    "    \n",
    "    print(\"DNS Spacing:\", DNS_spacing)\n",
    "    \n",
    "    sample_nx = new_domain_nx / crop / filter_width_n\n",
    "    print(\"Number of cells: \" + str(sample_nx))\n",
    "    if (sample_nx % 1) == 0:\n",
    "        sample_nx = int(sample_nx)\n",
    "    else:\n",
    "        print(\"get_points_test error: The inputs do not give a mesh with an integer number of cells\")\n",
    "        return 0\n",
    "\n",
    "    # Sample Domain Size\n",
    "    filter_spacing = filter_width_n * DNS_spacing\n",
    "    sample_x_min = math.ceil(filter_width_n/2) * DNS_spacing\n",
    "    sample_x_max = sample_x_min + ((sample_nx-1) * filter_spacing)\n",
    "\n",
    "    print(\"filter_spacing:\", filter_spacing)\n",
    "\n",
    "    x = np.linspace(sample_x_min, sample_x_max, sample_nx)\n",
    "    print(\"x[1]-x[0]:\", x[1]-x[0])\n",
    "    y = x\n",
    "    z = x\n",
    "    X,Y,Z = np.meshgrid(x,y,z)\n",
    "    X = X.ravel()\n",
    "    Y = Y.ravel()\n",
    "    Z = Z.ravel()\n",
    "\n",
    "    nnp=5 #number of points\n",
    "    points=np.random.rand(nnp,3)\n",
    "\n",
    "    points = np.zeros((sample_nx**3,3))\n",
    "    points[:,0] = Z\n",
    "    points[:,1] = X\n",
    "    points[:,2] = Y\n",
    "\n",
    "\n",
    "    # convert to JHTDB structures\n",
    "    x_coor=ArrayOfFloat(points[:,0].tolist())\n",
    "    y_coor=ArrayOfFloat(points[:,1].tolist())\n",
    "    z_coor=ArrayOfFloat(points[:,2].tolist())\n",
    "    point=ArrayOfArrayOfFloat([x_coor,y_coor,z_coor]);\n",
    "    \n",
    "    \n",
    "    return point, filter_spacing"
   ]
  },
  {
   "cell_type": "code",
   "execution_count": 4,
   "id": "e79c7648",
   "metadata": {},
   "outputs": [
    {
     "name": "stdout",
     "output_type": "stream",
     "text": [
      "DNS Spacing: 0.006135923151542565\n",
      "Number of cells: 56.0\n",
      "filter_spacing: 0.11044661672776616\n",
      "x[1]-x[0]: 0.11044661672776615\n"
     ]
    }
   ],
   "source": [
    "DNS_nx = 1024\n",
    "new_domain_nx = 1008\n",
    "filter_width_n = 18\n",
    "crop = 1\n",
    "point, filter_spacing = get_points_test(DNS_nx, new_domain_nx, filter_width_n, crop)"
   ]
  },
  {
   "cell_type": "code",
   "execution_count": 5,
   "id": "64f2cf42",
   "metadata": {},
   "outputs": [],
   "source": [
    "def getFields(point, filter_spacing, field = \"u\"):\n",
    "    start_time = time.time()\n",
    "    \n",
    "    t = 0\n",
    "    filterwidth = filter_spacing\n",
    "    spacing = filter_spacing #spacing is only used in GetBoxFilterGradient, but always provide it.\n",
    "    return_field = client.service.GetFilter_Python(\"GetBoxFilter\",token,\"isotropic1024coarse\", field, \n",
    "                                           t, filterwidth, SpatialInterpolation(\"None\"), point, spacing)\n",
    "\n",
    "    number_of_component = 3\n",
    "    return_field = np.array(return_field).reshape((-1, number_of_component))\n",
    "    if field == \"p\":\n",
    "        return_field = return_field[:,:1]\n",
    "    \n",
    "    print(\"Found \" + field + \" field\")\n",
    "    print(\"--- %s seconds ---\" % (time.time() - start_time))\n",
    "    print(np.shape(return_field))\n",
    "    \n",
    "    return return_field"
   ]
  },
  {
   "cell_type": "code",
   "execution_count": 6,
   "id": "3e6a145c",
   "metadata": {
    "scrolled": true
   },
   "outputs": [
    {
     "name": "stdout",
     "output_type": "stream",
     "text": [
      "Found u field\n",
      "--- 43.79325485229492 seconds ---\n",
      "(175616, 3)\n",
      "Found p field\n",
      "--- 44.7305862903595 seconds ---\n",
      "(175616, 1)\n"
     ]
    }
   ],
   "source": [
    "u = getFields(point, filter_spacing, field = \"u\")\n",
    "p = getFields(point, filter_spacing, field = \"p\")"
   ]
  },
  {
   "cell_type": "code",
   "execution_count": 9,
   "id": "d3ca5abc",
   "metadata": {},
   "outputs": [],
   "source": [
    "# test_array = np.array([[0.5,0.6,0.7],[1,2,3],[7,8,9],[10,15,17]])\n",
    "# test_array = np.array([[0.5],[1],[7],[10]])\n",
    "def createOFfile(fieldvalues, filter_width_n, new_domain_nx, crop):\n",
    "\n",
    "    if np.shape(fieldvalues)[1] == 3:\n",
    "        field = 'U'\n",
    "    else:\n",
    "        field = 'p'\n",
    "\n",
    "    new_file_name = field + \"_\" + str(filter_width_n) + \"_\" + str(new_domain_nx) + \"_crop\" + str(crop) + \".txt\"\n",
    "    template_file_name = field + \".txt\"\n",
    "    shutil.copy(template_file_name, new_file_name)\n",
    "    f = open(new_file_name,\"a\")\n",
    "    \n",
    "    output_string = \"\"\"\"\"\"\n",
    "    n_cells = np.shape(fieldvalues)[0]\n",
    "    print(n_cells)\n",
    "    output_string += \"\\n\" + str(n_cells) + \"\\n(\\n\"\n",
    "    f.write(output_string)\n",
    "    \n",
    "    components = np.shape(test_field_initial)[1]\n",
    "\n",
    "    field_string = fieldvalues.astype(str)\n",
    "    space_array = np.full((1, n_cells), \" \")\n",
    "    open_bracket_array = np.full((1, n_cells), \"(\")\n",
    "    close_bracket_array = np.full((1, n_cells), \")\")\n",
    "\n",
    "    if field == 'U':\n",
    "        field_string = np.insert(field_string, 0, open_bracket_array, axis = 1)\n",
    "        field_string = np.insert(field_string, 2, space_array, axis = 1)\n",
    "        field_string = np.insert(field_string, 4, space_array, axis = 1)\n",
    "        field_string = np.insert(field_string, 6, close_bracket_array, axis = 1)\n",
    "\n",
    "\n",
    "    np.savetxt(f, field_string, delimiter=\"\", fmt=\"%s\")\n",
    "        \n",
    "    output_string = \"\"\")\n",
    "    ;\n",
    "\n",
    "    boundaryField\n",
    "    {\n",
    "        patch0\n",
    "        {\n",
    "            type            cyclic;\n",
    "        }\n",
    "        patch1\n",
    "        {\n",
    "            type            cyclic;\n",
    "        }\n",
    "        patch2\n",
    "        {\n",
    "            type            cyclic;\n",
    "        }\n",
    "        patch3\n",
    "        {\n",
    "            type            cyclic;\n",
    "        }\n",
    "        patch4\n",
    "        {\n",
    "            type            cyclic;\n",
    "        }\n",
    "        patch5\n",
    "        {\n",
    "            type            cyclic;\n",
    "        }\n",
    "    }\n",
    "\n",
    "\n",
    "    // ************************************************************************* //\n",
    "    \"\"\"\n",
    "    print(output_string)\n",
    "    f.write(output_string)\n",
    "    print('yeet')\n",
    "    f.close()"
   ]
  },
  {
   "cell_type": "code",
   "execution_count": 10,
   "id": "39b2b479",
   "metadata": {},
   "outputs": [
    {
     "name": "stdout",
     "output_type": "stream",
     "text": [
      "175616\n",
      ")\n",
      "    ;\n",
      "\n",
      "    boundaryField\n",
      "    {\n",
      "        patch0\n",
      "        {\n",
      "            type            cyclic;\n",
      "        }\n",
      "        patch1\n",
      "        {\n",
      "            type            cyclic;\n",
      "        }\n",
      "        patch2\n",
      "        {\n",
      "            type            cyclic;\n",
      "        }\n",
      "        patch3\n",
      "        {\n",
      "            type            cyclic;\n",
      "        }\n",
      "        patch4\n",
      "        {\n",
      "            type            cyclic;\n",
      "        }\n",
      "        patch5\n",
      "        {\n",
      "            type            cyclic;\n",
      "        }\n",
      "    }\n",
      "\n",
      "\n",
      "    // ************************************************************************* //\n",
      "    \n",
      "yeet\n",
      "175616\n",
      ")\n",
      "    ;\n",
      "\n",
      "    boundaryField\n",
      "    {\n",
      "        patch0\n",
      "        {\n",
      "            type            cyclic;\n",
      "        }\n",
      "        patch1\n",
      "        {\n",
      "            type            cyclic;\n",
      "        }\n",
      "        patch2\n",
      "        {\n",
      "            type            cyclic;\n",
      "        }\n",
      "        patch3\n",
      "        {\n",
      "            type            cyclic;\n",
      "        }\n",
      "        patch4\n",
      "        {\n",
      "            type            cyclic;\n",
      "        }\n",
      "        patch5\n",
      "        {\n",
      "            type            cyclic;\n",
      "        }\n",
      "    }\n",
      "\n",
      "\n",
      "    // ************************************************************************* //\n",
      "    \n",
      "yeet\n"
     ]
    }
   ],
   "source": [
    "createOFfile(u, filter_width_n, new_domain_nx, crop)\n",
    "createOFfile(p, filter_width_n, new_domain_nx, crop)"
   ]
  },
  {
   "cell_type": "code",
   "execution_count": 11,
   "id": "1ea6eb09",
   "metadata": {},
   "outputs": [
    {
     "ename": "NameError",
     "evalue": "name 'output_string' is not defined",
     "output_type": "error",
     "traceback": [
      "\u001b[1;31m---------------------------------------------------------------------------\u001b[0m",
      "\u001b[1;31mNameError\u001b[0m                                 Traceback (most recent call last)",
      "\u001b[1;32m<ipython-input-11-868f5fb0a440>\u001b[0m in \u001b[0;36m<module>\u001b[1;34m\u001b[0m\n\u001b[1;32m----> 1\u001b[1;33m \u001b[0mprint\u001b[0m\u001b[1;33m(\u001b[0m\u001b[0moutput_string\u001b[0m\u001b[1;33m)\u001b[0m\u001b[1;33m\u001b[0m\u001b[1;33m\u001b[0m\u001b[0m\n\u001b[0m",
      "\u001b[1;31mNameError\u001b[0m: name 'output_string' is not defined"
     ]
    }
   ],
   "source": []
  },
  {
   "cell_type": "code",
   "execution_count": null,
   "id": "48ca812c",
   "metadata": {},
   "outputs": [],
   "source": []
  },
  {
   "cell_type": "code",
   "execution_count": 7,
   "id": "43de4605",
   "metadata": {},
   "outputs": [],
   "source": [
    "test_field_initial = np.array([[0.0, 0.1, 0.2], [0.3, 0.4, 0.5], [0.6, 0.7, 0.8], [0.9, 1.0, 1.1]])"
   ]
  },
  {
   "cell_type": "code",
   "execution_count": 60,
   "id": "cca91790",
   "metadata": {},
   "outputs": [
    {
     "name": "stdout",
     "output_type": "stream",
     "text": [
      "[[0.  0.1 0.2]\n",
      " [0.3 0.4 0.5]\n",
      " [0.6 0.7 0.8]\n",
      " [0.9 1.  1.1]]\n",
      "[['0.0' '0.1' '0.2']\n",
      " ['0.3' '0.4' '0.5']\n",
      " ['0.6' '0.7' '0.8']\n",
      " ['0.9' '1.0' '1.1']]\n",
      "[['(' '0.0' ' ' '0.1' ' ' '0.2' ')']\n",
      " ['(' '0.3' ' ' '0.4' ' ' '0.5' ')']\n",
      " ['(' '0.6' ' ' '0.7' ' ' '0.8' ')']\n",
      " ['(' '0.9' ' ' '1.0' ' ' '1.1' ')']]\n"
     ]
    }
   ],
   "source": [
    "print(test_field_initial)\n",
    "n_cells = np.shape(test_field_initial)[0]\n",
    "components = np.shape(test_field_initial)[1]\n",
    "\n",
    "test_field = test_field_initial.astype(str)\n",
    "print(test_field)\n",
    "\n",
    "space_array = np.full((1, n_cells), \" \")\n",
    "open_bracket_array = np.full((1, n_cells), \"(\")\n",
    "close_bracket_array = np.full((1, n_cells), \")\")\n",
    "\n",
    "test_field = np.insert(test_field, 0, open_bracket_array, axis = 1)\n",
    "if components == 3:\n",
    "    test_field = np.insert(test_field, 2, space_array, axis = 1)\n",
    "    test_field = np.insert(test_field, 4, space_array, axis = 1)\n",
    "    test_field = np.insert(test_field, 6, close_bracket_array, axis = 1)\n",
    "else:\n",
    "    test_field = np.insert(test_field, 2, close_bracket_array, axis = 1)\n",
    "\n",
    "print(test_field)\n",
    "\n",
    "np.savetxt('numpy_test.txt', test_field, delimiter=\"\", fmt=\"%s\")"
   ]
  }
 ],
 "metadata": {
  "kernelspec": {
   "display_name": "Python 3",
   "language": "python",
   "name": "python3"
  },
  "language_info": {
   "codemirror_mode": {
    "name": "ipython",
    "version": 3
   },
   "file_extension": ".py",
   "mimetype": "text/x-python",
   "name": "python",
   "nbconvert_exporter": "python",
   "pygments_lexer": "ipython3",
   "version": "3.8.8"
  }
 },
 "nbformat": 4,
 "nbformat_minor": 5
}

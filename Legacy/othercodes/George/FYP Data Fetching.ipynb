{
 "cells": [
  {
   "cell_type": "code",
   "execution_count": null,
   "id": "171e53db",
   "metadata": {},
   "outputs": [],
   "source": [
    "import zeep\n",
    "import numpy as np\n",
    "import math\n",
    "import time\n",
    "\n",
    "import matplotlib.pyplot as plt"
   ]
  },
  {
   "cell_type": "code",
   "execution_count": null,
   "id": "6aeb6051",
   "metadata": {},
   "outputs": [],
   "source": [
    "client = zeep.Client('http://turbulence.pha.jhu.edu/service/turbulence.asmx?WSDL')\n",
    "ArrayOfFloat = client.get_type('ns0:ArrayOfFloat')\n",
    "ArrayOfArrayOfFloat = client.get_type('ns0:ArrayOfArrayOfFloat')\n",
    "SpatialInterpolation = client.get_type('ns0:SpatialInterpolation')\n",
    "TemporalInterpolation = client.get_type('ns0:TemporalInterpolation')\n",
    "\n",
    "token = \"uk.ac.imperial.george.dixon-dray17-29581e35\""
   ]
  },
  {
   "cell_type": "code",
   "execution_count": null,
   "id": "5ff9cafd",
   "metadata": {},
   "outputs": [],
   "source": [
    "def get_fields(filter_width_n=9,origin_x=0,sample_nx=64,field=\"u\",t=0,dataset = \"isotropic1024coarse\"):\n",
    "    start_time = time.time()\n",
    "    \n",
    "    # Database Domain Size\n",
    "    if dataset == \"isotropic1024coarse\":\n",
    "        domain_nx = 1024\n",
    "    elif dataset == \"isotropic4096\":\n",
    "        domain_nx = 4096\n",
    "\n",
    "    # Database Domain Size\n",
    "    domain_x_min = 0\n",
    "    domain_x_max = 2*np.pi\n",
    "    domain_spacing = domain_x_max / (domain_nx)\n",
    "\n",
    "\n",
    "    # Sample Domain Size\n",
    "    filter_spacing = filter_width_n * domain_spacing\n",
    "    print(filter_spacing)\n",
    "    sample_x_min = math.ceil(filter_width_n/2) * domain_spacing + origin_x\n",
    "    sample_x_max = sample_x_min + ((sample_nx-1) * filter_spacing)\n",
    "\n",
    "    print(\"filter_spacing:\", filter_spacing)\n",
    "\n",
    "    x = np.linspace(sample_x_min, sample_x_max, sample_nx)\n",
    "    print(\"x[1]-x[0]:\", x[1]-x[0])\n",
    "    y = x\n",
    "    z = x\n",
    "    X,Y,Z = np.meshgrid(x,y,z)\n",
    "    X = X.ravel()\n",
    "    Y = Y.ravel()\n",
    "    Z = Z.ravel()\n",
    "\n",
    "    nnp=5 #number of points\n",
    "    points=np.random.rand(nnp,3)\n",
    "\n",
    "    points = np.zeros((sample_nx**3,3))\n",
    "    points[:,0] = Z\n",
    "    points[:,1] = X\n",
    "    points[:,2] = Y\n",
    "\n",
    "\n",
    "    # convert to JHTDB structures\n",
    "    x_coor=ArrayOfFloat(points[:,0].tolist())\n",
    "    y_coor=ArrayOfFloat(points[:,1].tolist())\n",
    "    z_coor=ArrayOfFloat(points[:,2].tolist())\n",
    "    point=ArrayOfArrayOfFloat([x_coor,y_coor,z_coor]);\n",
    "    \n",
    "    filterwidth = filter_spacing\n",
    "    spacing = filter_spacing #spacing is only used in GetBoxFilterGradient, but always provide it.\n",
    "\n",
    "    number_of_component=9\n",
    "    grad_filtered = client.service.GetFilter_Python(\"GetBoxFilterGradient\",token,\"isotropic1024coarse\", field, \n",
    "                                           t, filterwidth, SpatialInterpolation(\"None\"), point, spacing)\n",
    "    grad_filtered=np.array(grad_filtered).reshape((-1, number_of_component))\n",
    "    print('found gradient')\n",
    "    print(np.shape(grad_filtered))\n",
    "    \n",
    "    number_of_component=6 # change this based on function_name, see http://turbulence.pha.jhu.edu/webquery/query.aspx\n",
    "    SGSsym=client.service.GetFilter_Python(\"GetBoxFilterSGSsymtensor\",token,\"isotropic1024coarse\", field, \n",
    "                                           t, filterwidth, SpatialInterpolation(\"None\"), point, spacing) \n",
    "    SGSsym=np.array(SGSsym).reshape((-1, number_of_component))\n",
    "    print('found SGS')\n",
    "    print(np.shape(SGSsym))\n",
    "    \n",
    "#     number_of_component=9 # change this based on function_name, see http://turbulence.pha.jhu.edu/webquery/query.aspx\n",
    "#     pressure_grad=client.service.GetFilter_Python(\"GetBoxFilterGradient\",token,\"isotropic1024coarse\", \"p\", \n",
    "#                                            t, filterwidth, SpatialInterpolation(\"None\"), point, spacing) \n",
    "#     pressure_grad=np.array(pressure_grad).reshape((-1, number_of_component))\n",
    "#     print(np.shape(pressure_grad))\n",
    "    \n",
    "    print(\"--- %s seconds ---\" % (time.time() - start_time))\n",
    "    \n",
    "    return grad_filtered, SGSsym #, pressure_grad\n"
   ]
  },
  {
   "cell_type": "code",
   "execution_count": null,
   "id": "efe8f1e7",
   "metadata": {},
   "outputs": [],
   "source": [
    "cube_grad, cube_SGS = get_fields(filter_width_n=9,origin_x=np.pi,sample_nx=50,field=\"u\",t=5)"
   ]
  },
  {
   "cell_type": "code",
   "execution_count": null,
   "id": "49644346",
   "metadata": {},
   "outputs": [],
   "source": [
    "# cube_pressure = cube_pressure_9[:,:3]\n",
    "# input_data = np.concatenate((cube_grad,cube_pressure),axis=1)\n",
    "# print(np.shape(input_data))\n",
    "# np.save('cube_3_grad_p', input_data)"
   ]
  },
  {
   "cell_type": "code",
   "execution_count": null,
   "id": "74dcc6e7",
   "metadata": {},
   "outputs": [],
   "source": [
    "np.save('cube_6_grad', cube_grad)\n",
    "\n",
    "np.save('cube_6_SGS', cube_SGS)"
   ]
  },
  {
   "cell_type": "code",
   "execution_count": null,
   "id": "4bef4985",
   "metadata": {},
   "outputs": [],
   "source": [
    "cube_grad_11, cube_SGS_11 = get_fields(filter_width_n=5,origin_x=0,sample_nx=100,field=\"u\",t=0)\n",
    "cube_grad_12, cube_SGS_12 = get_fields(filter_width_n=5,origin_x=np.pi,sample_nx=100,field=\"u\",t=0)"
   ]
  },
  {
   "cell_type": "code",
   "execution_count": null,
   "id": "185d6d80",
   "metadata": {},
   "outputs": [],
   "source": [
    "np.save('cube_11_grad', cube_grad_11)\n",
    "np.save('cube_12_grad', cube_grad_12)\n",
    "\n",
    "np.save('cube_11_SGS', cube_SGS_11)\n",
    "np.save('cube_12_SGS', cube_SGS_12)"
   ]
  },
  {
   "cell_type": "code",
   "execution_count": null,
   "id": "62621df3",
   "metadata": {},
   "outputs": [],
   "source": [
    "cube_grad_9, cube_SGS_9 = get_fields(filter_width_n=9,origin_x=0,sample_nx=100,field=\"u\",t=0,dataset = \"isotropic4096\")\n",
    "cube_grad_10, cube_SGS_10 = get_fields(filter_width_n=9,origin_x=0,sample_nx=100,field=\"u\",t=0,dataset = \"isotropic4096\")\n",
    "\n",
    "\n",
    "np.save('cube_9_grad', cube_grad)\n",
    "np.save('cube_9_SGS', cube_SGS)\n",
    "\n",
    "np.save('cube_10_grad', cube_grad)\n",
    "np.save('cube_10_SGS', cube_SGS)"
   ]
  },
  {
   "cell_type": "code",
   "execution_count": null,
   "id": "1646eecd",
   "metadata": {},
   "outputs": [],
   "source": [
    "np.save('cube_9_grad', cube_grad_9)\n",
    "np.save('cube_9_SGS', cube_SGS_9)\n",
    "\n",
    "np.save('cube_10_grad', cube_grad_10)\n",
    "np.save('cube_10_SGS', cube_SGS_10)\n",
    "\n",
    "print(np.shape(cube_grad_9))\n",
    "print(np.shape(cube_SGS_9))\n",
    "\n",
    "print(np.shape(cube_grad_10))\n",
    "print(np.shape(cube_SGS_10))"
   ]
  },
  {
   "cell_type": "code",
   "execution_count": null,
   "id": "1e106413",
   "metadata": {},
   "outputs": [],
   "source": []
  }
 ],
 "metadata": {
  "kernelspec": {
   "display_name": "Python 3",
   "language": "python",
   "name": "python3"
  },
  "language_info": {
   "codemirror_mode": {
    "name": "ipython",
    "version": 3
   },
   "file_extension": ".py",
   "mimetype": "text/x-python",
   "name": "python",
   "nbconvert_exporter": "python",
   "pygments_lexer": "ipython3",
   "version": "3.8.8"
  }
 },
 "nbformat": 4,
 "nbformat_minor": 5
}

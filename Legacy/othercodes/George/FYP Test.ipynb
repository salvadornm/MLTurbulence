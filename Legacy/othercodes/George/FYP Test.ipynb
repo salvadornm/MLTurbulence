{
 "cells": [
  {
   "cell_type": "code",
   "execution_count": 1,
   "id": "bbcabf42",
   "metadata": {},
   "outputs": [],
   "source": [
    "import zeep\n",
    "import numpy as np\n",
    "import math\n",
    "import time\n",
    "import tensorflow as tf\n",
    "import matplotlib.pyplot as plt\n",
    "\n",
    "from tensorflow import estimator\n",
    "from tensorflow import keras\n",
    "from tensorflow.keras.utils import *\n",
    "from tensorflow.keras import Sequential\n",
    "from tensorflow.keras.layers import Dense\n",
    "\n",
    "from sklearn.model_selection import train_test_split\n",
    "\n",
    "from keras import backend as K\n",
    "\n",
    "# import tensorflow_probability as tfp"
   ]
  },
  {
   "cell_type": "code",
   "execution_count": 6,
   "id": "b1344099",
   "metadata": {},
   "outputs": [],
   "source": [
    "client = zeep.Client('http://turbulence.pha.jhu.edu/service/turbulence.asmx?WSDL')\n",
    "ArrayOfFloat = client.get_type('ns0:ArrayOfFloat')\n",
    "ArrayOfArrayOfFloat = client.get_type('ns0:ArrayOfArrayOfFloat')\n",
    "SpatialInterpolation = client.get_type('ns0:SpatialInterpolation')\n",
    "TemporalInterpolation = client.get_type('ns0:TemporalInterpolation')\n",
    "\n",
    "token = \"uk.ac.imperial.george.dixon-dray17-29581e35\""
   ]
  },
  {
   "cell_type": "code",
   "execution_count": 15,
   "id": "fb5b7747",
   "metadata": {},
   "outputs": [],
   "source": [
    "def get_points_test(filter_width_n=9,origin_x=0,sample_nx=64,field=\"u\",t=0):\n",
    "    start_time = time.time()\n",
    "    dataset = \"isotropic1024coarse\"\n",
    "\n",
    "    # Database Domain Size\n",
    "    domain_nx = 1024\n",
    "    domain_x_min = 0\n",
    "    domain_x_max = 2*np.pi\n",
    "    domain_spacing = domain_x_max / (domain_nx)\n",
    "\n",
    "\n",
    "    # Sample Domain Size\n",
    "    filter_spacing = filter_width_n * domain_spacing\n",
    "    print(filter_spacing)\n",
    "    sample_x_min = math.ceil(filter_width_n/2) * domain_spacing + origin_x\n",
    "    sample_x_max = sample_x_min + ((sample_nx-1) * filter_spacing)\n",
    "\n",
    "    print(\"filter_spacing:\", filter_spacing)\n",
    "\n",
    "    x = np.linspace(sample_x_min, sample_x_max, sample_nx)\n",
    "    print(\"x[1]-x[0]:\", x[1]-x[0])\n",
    "    y = x\n",
    "    z = x\n",
    "    X,Y,Z = np.meshgrid(x,y,z)\n",
    "    X = X.ravel()\n",
    "    Y = Y.ravel()\n",
    "    Z = Z.ravel()\n",
    "\n",
    "    nnp=5 #number of points\n",
    "    points=np.random.rand(nnp,3)\n",
    "\n",
    "    points = np.zeros((sample_nx**3,3))\n",
    "    points[:,0] = Z\n",
    "    points[:,1] = X\n",
    "    points[:,2] = Y\n",
    "\n",
    "\n",
    "    # convert to JHTDB structures\n",
    "    x_coor=ArrayOfFloat(points[:,0].tolist())\n",
    "    y_coor=ArrayOfFloat(points[:,1].tolist())\n",
    "    z_coor=ArrayOfFloat(points[:,2].tolist())\n",
    "    point=ArrayOfArrayOfFloat([x_coor,y_coor,z_coor]);\n",
    "    \n",
    "    return points"
   ]
  },
  {
   "cell_type": "code",
   "execution_count": 24,
   "id": "cbe329ec",
   "metadata": {},
   "outputs": [
    {
     "name": "stdout",
     "output_type": "stream",
     "text": [
      "0.05522330836388308\n",
      "filter_spacing: 0.05522330836388308\n",
      "x[1]-x[0]: 0.05522330836388308\n",
      "0.05522330836388308\n",
      "filter_spacing: 0.05522330836388308\n",
      "x[1]-x[0]: 0.05522330836388312\n",
      "0.05522330836388308\n",
      "filter_spacing: 0.05522330836388308\n",
      "x[1]-x[0]: 0.05522330836388312\n",
      "[[0.03067962 0.03067962 0.03067962]\n",
      " [0.08590292 0.03067962 0.03067962]\n",
      " [0.14112623 0.03067962 0.03067962]\n",
      " ...\n",
      " [0.30679616 0.41724277 0.41724277]\n",
      " [0.36201947 0.41724277 0.41724277]\n",
      " [0.41724277 0.41724277 0.41724277]]\n",
      "[[3.17227227 3.17227227 3.17227227]\n",
      " [3.22749558 3.17227227 3.17227227]\n",
      " [3.28271889 3.17227227 3.17227227]\n",
      " ...\n",
      " [3.44838881 3.55883543 3.55883543]\n",
      " [3.50361212 3.55883543 3.55883543]\n",
      " [3.55883543 3.55883543 3.55883543]]\n",
      "[[1.60147594 1.60147594 1.60147594]\n",
      " [1.65669925 1.60147594 1.60147594]\n",
      " [1.71192256 1.60147594 1.60147594]\n",
      " ...\n",
      " [1.87759248 1.9880391  1.9880391 ]\n",
      " [1.93281579 1.9880391  1.9880391 ]\n",
      " [1.9880391  1.9880391  1.9880391 ]]\n"
     ]
    }
   ],
   "source": [
    "cube1_grad = get_points_test(filter_width_n=9,origin_x=0,sample_nx=8,field=\"u\",t=0)\n",
    "cube2_grad = get_points_test(filter_width_n=9,origin_x=np.pi,sample_nx=8,field=\"u\",t=2)\n",
    "cube3_grad = get_points_test(filter_width_n=9,origin_x=np.pi/2,sample_nx=8,field=\"u\",t=2)\n",
    "print(cube1_grad)\n",
    "print(cube2_grad)\n",
    "print(cube3_grad)"
   ]
  },
  {
   "cell_type": "code",
   "execution_count": 25,
   "id": "3d1b3122",
   "metadata": {},
   "outputs": [
    {
     "name": "stdout",
     "output_type": "stream",
     "text": [
      "(1536, 3)\n"
     ]
    }
   ],
   "source": [
    "x = np.concatenate((cube1_grad,cube2_grad,cube3_grad))\n",
    "print(np.shape(x))"
   ]
  },
  {
   "cell_type": "code",
   "execution_count": 26,
   "id": "508fc0f4",
   "metadata": {},
   "outputs": [],
   "source": [
    "np.save('numpy_file_test', x)"
   ]
  },
  {
   "cell_type": "code",
   "execution_count": 29,
   "id": "ab6da709",
   "metadata": {},
   "outputs": [],
   "source": [
    "y = np.load('numpy_file_test.npy')"
   ]
  },
  {
   "cell_type": "code",
   "execution_count": 30,
   "id": "d4a7db79",
   "metadata": {},
   "outputs": [
    {
     "name": "stdout",
     "output_type": "stream",
     "text": [
      "(1536, 3)\n"
     ]
    }
   ],
   "source": [
    "print(np.shape(y))"
   ]
  },
  {
   "cell_type": "code",
   "execution_count": 52,
   "id": "5f1f0446",
   "metadata": {
    "scrolled": false
   },
   "outputs": [
    {
     "name": "stdout",
     "output_type": "stream",
     "text": [
      "tf.Tensor(\n",
      "[[0.03067962 0.03067962 0.03067962]\n",
      " [0.08590292 0.03067962 0.03067962]\n",
      " [0.14112623 0.03067962 0.03067962]\n",
      " ...\n",
      " [1.87759248 1.9880391  1.9880391 ]\n",
      " [1.93281579 1.9880391  1.9880391 ]\n",
      " [1.9880391  1.9880391  1.9880391 ]], shape=(1536, 3), dtype=float64)\n",
      "tf.Tensor([1.79475752 1.79475752 1.79475752], shape=(3,), dtype=float64)\n",
      "tf.Tensor(\n",
      "[[-1.76407791 -1.76407791 -1.76407791]\n",
      " [-1.7088546  -1.76407791 -1.76407791]\n",
      " [-1.65363129 -1.76407791 -1.76407791]\n",
      " ...\n",
      " [ 0.08283496  0.19328158  0.19328158]\n",
      " [ 0.13805827  0.19328158  0.19328158]\n",
      " [ 0.19328158  0.19328158  0.19328158]], shape=(1536, 3), dtype=float64)\n",
      "tf.Tensor(\n",
      "[[-1.76407791 -1.76407791 -1.76407791]\n",
      " [-1.7088546  -1.76407791 -1.76407791]\n",
      " [-1.65363129 -1.76407791 -1.76407791]\n",
      " ...\n",
      " [ 0.08283496  0.19328158  0.19328158]\n",
      " [ 0.13805827  0.19328158  0.19328158]\n",
      " [ 0.19328158  0.19328158  0.19328158]], shape=(1536, 3), dtype=float64)\n",
      "tf.Tensor([1.66094454 1.66094454 1.66094454], shape=(3,), dtype=float64)\n",
      "tf.Tensor([1.66094454 1.66094454 1.66094454], shape=(3,), dtype=float64)\n",
      "tf.Tensor([1. 1. 1.], shape=(3,), dtype=float64)\n"
     ]
    }
   ],
   "source": [
    "from keras import backend as K\n",
    "DNS = tf.constant(x)\n",
    "print(DNS)\n",
    "DNS_mean = tf.reduce_mean(DNS,0)\n",
    "print(DNS_mean)\n",
    "num_term_DNS = DNS - DNS_mean\n",
    "print(num_term_DNS)\n",
    "\n",
    "ANN = tf.constant(y)\n",
    "ANN_mean = tf.reduce_mean(ANN,0)\n",
    "num_term_ANN = ANN - ANN_mean\n",
    "print(num_term_ANN)\n",
    "\n",
    "num = tf.reduce_mean(tf.multiply(num_term_DNS,num_term_ANN),0)\n",
    "print(num)\n",
    "\n",
    "den_term_DNS = tf.sqrt(tf.reduce_mean(tf.square(num_term_DNS),0))\n",
    "den_term_ANN = tf.sqrt(tf.reduce_mean(tf.square(num_term_ANN),0))\n",
    "den = tf.multiply(den_term_DNS,den_term_ANN)\n",
    "print(den)\n",
    "\n",
    "r = tf.divide(num,den)\n",
    "print(r)"
   ]
  },
  {
   "cell_type": "code",
   "execution_count": 72,
   "id": "ae68b55c",
   "metadata": {},
   "outputs": [
    {
     "name": "stdout",
     "output_type": "stream",
     "text": [
      "tf.Tensor([3918659.80762286 3918659.80762286 3918659.8076229 ], shape=(3,), dtype=float64)\n",
      "tf.Tensor([3918659.80762286 3918659.80762286 3918659.8076229 ], shape=(3,), dtype=float64)\n",
      "tf.Tensor([1. 1. 1.], shape=(3,), dtype=float64)\n"
     ]
    }
   ],
   "source": [
    "DNS = tf.constant(x)\n",
    "ANN = tf.constant(y)\n",
    "# N = K.int_shape(DNS)[0]\n",
    "\n",
    "N = DNS.get_shape().as_list()[0]\n",
    "\n",
    "num = N * tf.reduce_sum(tf.multiply(DNS,ANN),0) - tf.multiply(tf.reduce_sum(DNS,0),tf.reduce_sum(ANN,0))\n",
    "print(num)\n",
    "den_term_DNS = N * tf.reduce_sum(tf.square(DNS),0) - tf.square(tf.reduce_sum(DNS,0))\n",
    "den_term_ANN = N * tf.reduce_sum(tf.square(ANN),0) - tf.square(tf.reduce_sum(ANN,0))\n",
    "\n",
    "den = tf.sqrt(tf.multiply(den_term_DNS,den_term_ANN))\n",
    "print(den)\n",
    "\n",
    "r = tf.divide(num,den)\n",
    "print(r)\n",
    "\n",
    "# r_num = N * K.sum(tf.multiply(DNS,ANN)) - tf.multiply(K.sum(DNS),K.sum(ANN))\n",
    "# r_den_term_DNS = N * K.sum(K.square(DNS)) - K.square(K.sum(DNS))\n",
    "# r_den_term_ANN = N * K.sum(K.square(ANN)) - K.square(K.sum(ANN))\n",
    "# r_den = K.sqrt(tf.multiply(r_den_term_DNS,r_den_term_ANN))\n",
    "\n",
    "# r = tf.divide(r_num,r_den)"
   ]
  },
  {
   "cell_type": "code",
   "execution_count": 88,
   "id": "76ef9da3",
   "metadata": {},
   "outputs": [],
   "source": [
    "def correlation_coefficient_theo(x,y):\n",
    "    DNS = x\n",
    "    DNS_mean = tf.reduce_mean(DNS,0)\n",
    "    num_term_DNS = DNS - DNS_mean\n",
    "    \n",
    "    ANN = y\n",
    "    ANN_mean = tf.reduce_mean(ANN,0)\n",
    "    num_term_ANN = ANN - ANN_mean\n",
    "    \n",
    "    num = tf.reduce_mean(tf.multiply(num_term_DNS,num_term_ANN),0)\n",
    "\n",
    "    den_term_DNS = tf.sqrt(tf.reduce_mean(tf.square(num_term_DNS),0))\n",
    "    den_term_ANN = tf.sqrt(tf.reduce_mean(tf.square(num_term_ANN),0))\n",
    "    \n",
    "    den = tf.multiply(den_term_DNS,den_term_ANN)\n",
    "\n",
    "    r = tf.divide(num,den)\n",
    "    return r"
   ]
  },
  {
   "cell_type": "code",
   "execution_count": 89,
   "id": "e1709056",
   "metadata": {},
   "outputs": [
    {
     "name": "stdout",
     "output_type": "stream",
     "text": [
      "tf.Tensor([1. 1. 1.], shape=(3,), dtype=float64)\n"
     ]
    }
   ],
   "source": [
    "print(correlation_coefficient_theo(x,y))"
   ]
  },
  {
   "cell_type": "code",
   "execution_count": 131,
   "id": "ac7a559d",
   "metadata": {},
   "outputs": [],
   "source": [
    "def correlation_coefficient_alvaro(y_true,y_pred):\n",
    "    DNS = y_true\n",
    "    ANN = y_pred\n",
    "    county_boi = tf.constant(DNS)\n",
    "    N = tf.divide(tf.reduce_sum(DNS,0),tf.reduce_mean(DNS,0))\n",
    "#     print(type(N[0]))\n",
    "#     print(N[0].numpy())\n",
    "\n",
    "    num = N * tf.reduce_sum(tf.multiply(DNS,ANN),0) - tf.multiply(tf.reduce_sum(DNS,0),tf.reduce_sum(ANN,0))\n",
    "    \n",
    "    den_term_DNS = N * tf.reduce_sum(tf.square(DNS),0) - tf.square(tf.reduce_sum(DNS,0))\n",
    "    den_term_ANN = N * tf.reduce_sum(tf.square(ANN),0) - tf.square(tf.reduce_sum(ANN,0))\n",
    "    den = tf.sqrt(tf.multiply(den_term_DNS,den_term_ANN))\n",
    "    den_squared = tf.multiply(den_term_DNS,den_term_ANN)\n",
    "#     tf.multiply(den_term_DNS,den_term_ANN)[0]\n",
    "    r = tf.divide(num,den)\n",
    "    den_sq_proto = tf.make_tensor_proto(den_squared)\n",
    "    den_sq_np = tf.make_ndarray(den_sq_proto)\n",
    "    den_sq0 = float(den_sq_np[0])\n",
    "    print(type(den_sq_np))\n",
    "    print(type(den_sq0))\n",
    "    return tf.pow(tf.multiply(den_term_DNS,den_term_ANN),0.5)\n",
    "\n",
    "def cc_comp_1(y_true,y_pred):\n",
    "    r = correlation_coefficient_alvaro(y_true,y_pred)\n",
    "    component = r[0]\n",
    "    return component"
   ]
  },
  {
   "cell_type": "code",
   "execution_count": 132,
   "id": "7b879426",
   "metadata": {},
   "outputs": [
    {
     "name": "stdout",
     "output_type": "stream",
     "text": [
      "<class 'numpy.ndarray'>\n",
      "<class 'float'>\n",
      "tf.Tensor([3918659.80762286 3918659.80762286 3918659.8076229 ], shape=(3,), dtype=float64)\n",
      "<class 'numpy.ndarray'>\n",
      "<class 'float'>\n",
      "tf.Tensor(3918659.807622865, shape=(), dtype=float64)\n"
     ]
    }
   ],
   "source": [
    "print(correlation_coefficient_alvaro(x,y))\n",
    "print(cc_comp_1(x,y))"
   ]
  },
  {
   "cell_type": "code",
   "execution_count": null,
   "id": "26d23f3f",
   "metadata": {},
   "outputs": [],
   "source": []
  }
 ],
 "metadata": {
  "kernelspec": {
   "display_name": "Python 3",
   "language": "python",
   "name": "python3"
  },
  "language_info": {
   "codemirror_mode": {
    "name": "ipython",
    "version": 3
   },
   "file_extension": ".py",
   "mimetype": "text/x-python",
   "name": "python",
   "nbconvert_exporter": "python",
   "pygments_lexer": "ipython3",
   "version": "3.8.8"
  }
 },
 "nbformat": 4,
 "nbformat_minor": 5
}
